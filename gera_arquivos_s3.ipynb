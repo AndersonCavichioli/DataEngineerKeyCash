{
 "cells": [
  {
   "cell_type": "markdown",
   "metadata": {},
   "source": [
    "Importar as bibliotecas que serão usadas"
   ]
  },
  {
   "cell_type": "code",
   "execution_count": 9,
   "metadata": {},
   "outputs": [],
   "source": [
    "import boto3\n",
    "import glob"
   ]
  },
  {
   "cell_type": "markdown",
   "metadata": {},
   "source": [
    "Verificar se estamos conseguindo localizar o(s) buckets do s3 na AWS"
   ]
  },
  {
   "cell_type": "code",
   "execution_count": 10,
   "metadata": {},
   "outputs": [
    {
     "name": "stdout",
     "output_type": "stream",
     "text": [
      "engenharia-de-dados-anderson\n"
     ]
    }
   ],
   "source": [
    "s3 = boto3.resource('s3')\n",
    "for bucket in s3.buckets.all():\n",
    "    print(bucket.name)"
   ]
  },
  {
   "cell_type": "markdown",
   "metadata": {},
   "source": [
    "Criar os parametros de acesso aos arquivos "
   ]
  },
  {
   "cell_type": "code",
   "execution_count": 11,
   "metadata": {},
   "outputs": [],
   "source": [
    "caminho = \"C:\\\\Users\\\\acavi\\\\Downloads\\\\Case\\\\DataEngineerFiles\\\\output_0.json\"\n",
    "bucket = \"engenharia-de-dados-anderson\""
   ]
  },
  {
   "cell_type": "markdown",
   "metadata": {},
   "source": [
    "Criar um laço FOR pra passar por cada arquivo contido no diretório e subir pro s3, pegando apenas os arquivos .json"
   ]
  },
  {
   "cell_type": "code",
   "execution_count": 12,
   "metadata": {},
   "outputs": [],
   "source": [
    "for f in glob.glob('DataEngineerFiles/*.json'):\n",
    "\n",
    "        s3 = boto3.client('s3')\n",
    "        s3.upload_file(caminho, bucket, f)"
   ]
  }
 ],
 "metadata": {
  "interpreter": {
   "hash": "6f97de720700001711d96ac89a267cc9eea5f6a17c809a10e4904d117dc1b26f"
  },
  "kernelspec": {
   "display_name": "Python 3.9.10 64-bit (windows store)",
   "language": "python",
   "name": "python3"
  },
  "language_info": {
   "codemirror_mode": {
    "name": "ipython",
    "version": 3
   },
   "file_extension": ".py",
   "mimetype": "text/x-python",
   "name": "python",
   "nbconvert_exporter": "python",
   "pygments_lexer": "ipython3",
   "version": "3.9.10"
  },
  "orig_nbformat": 4
 },
 "nbformat": 4,
 "nbformat_minor": 2
}
